#Dictionary
university = {
    "name": "Christ",
    "graded": True,
    "year": 2008,
    "program": ["MCA","MSC","MCOM"],
}